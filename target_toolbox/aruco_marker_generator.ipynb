{
 "cells": [
  {
   "cell_type": "code",
   "execution_count": 1,
   "id": "9150d956",
   "metadata": {},
   "outputs": [],
   "source": [
    "import numpy as np\n",
    "import cv2 as cv\n",
    "import matplotlib.pyplot as plt\n",
    "\n",
    "import argparse\n",
    "import sys"
   ]
  },
  {
   "cell_type": "code",
   "execution_count": 3,
   "id": "95d5a7d0",
   "metadata": {},
   "outputs": [],
   "source": [
    "ARUCO_DICT_SET = {\n",
    "    \"DICT_4X4_50\": cv.aruco.DICT_4X4_50,\n",
    "    \"DICT_4X4_100\": cv.aruco.DICT_4X4_100,\n",
    "    \"DICT_4X4_250\": cv.aruco.DICT_4X4_250,\n",
    "    \"DICT_4X4_1000\": cv.aruco.DICT_4X4_1000,\n",
    "    \"DICT_5X5_50\": cv.aruco.DICT_5X5_50,\n",
    "    \"DICT_5X5_100\": cv.aruco.DICT_5X5_100,\n",
    "    \"DICT_5X5_250\": cv.aruco.DICT_5X5_250,\n",
    "    \"DICT_5X5_1000\": cv.aruco.DICT_5X5_1000,\n",
    "    \"DICT_6X6_50\": cv.aruco.DICT_6X6_50,\n",
    "    \"DICT_6X6_100\": cv.aruco.DICT_6X6_100,\n",
    "    \"DICT_6X6_250\": cv.aruco.DICT_6X6_250,\n",
    "    \"DICT_6X6_1000\": cv.aruco.DICT_6X6_1000,\n",
    "    \"DICT_7X7_50\": cv.aruco.DICT_7X7_50,\n",
    "    \"DICT_7X7_100\": cv.aruco.DICT_7X7_100,\n",
    "    \"DICT_7X7_250\": cv.aruco.DICT_7X7_250,\n",
    "    \"DICT_7X7_1000\": cv.aruco.DICT_7X7_1000,\n",
    "    \"DICT_ARUCO_ORIGINAL\": cv.aruco.DICT_ARUCO_ORIGINAL,\n",
    "#    \"DICT_APRILTAG_16h5\": cv.aruco.DICT_APRILTAG_16h5,\n",
    "#    \"DICT_APRILTAG_25h9\": cv.aruco.DICT_APRILTAG_25h9,\n",
    "#    \"DICT_APRILTAG_36h10\": cv.aruco.DICT_APRILTAG_36h10,\n",
    "#    \"DICT_APRILTAG_36h11\": cv.aruco.DICT_APRILTAG_36h11\n",
    "}\n",
    "\n",
    "ARUCO_DICT_TYPE_STR = 'DICT_5X5_100'\n",
    "ARUCO_DICT_TYPE = ARUCO_DICT_SET[ARUCO_DICT_TYPE_STR]"
   ]
  },
  {
   "cell_type": "code",
   "execution_count": 4,
   "id": "32225016",
   "metadata": {},
   "outputs": [],
   "source": [
    "# load the ArUCo dictionary\n",
    "arucoDict = cv.aruco.Dictionary_get(ARUCO_DICT_TYPE)"
   ]
  },
  {
   "cell_type": "code",
   "execution_count": 7,
   "id": "51857d68",
   "metadata": {},
   "outputs": [
    {
     "ename": "AttributeError",
     "evalue": "'cv2.aruco_Dictionary' object has no attribute 'generateImageMarker'",
     "output_type": "error",
     "traceback": [
      "\u001b[0;31m---------------------------------------------------------------------------\u001b[0m",
      "\u001b[0;31mAttributeError\u001b[0m                            Traceback (most recent call last)",
      "Input \u001b[0;32mIn [7]\u001b[0m, in \u001b[0;36m<cell line: 1>\u001b[0;34m()\u001b[0m\n\u001b[0;32m----> 1\u001b[0m tag2 \u001b[38;5;241m=\u001b[39m \u001b[43marucoDict\u001b[49m\u001b[38;5;241;43m.\u001b[39;49m\u001b[43mgenerateImageMarker\u001b[49m(\u001b[38;5;241m0\u001b[39m, \u001b[38;5;241m300\u001b[39m)\n",
      "\u001b[0;31mAttributeError\u001b[0m: 'cv2.aruco_Dictionary' object has no attribute 'generateImageMarker'"
     ]
    }
   ],
   "source": [
    "tag2 = arucoDict.generateImageMarker(0, 300)"
   ]
  },
  {
   "cell_type": "code",
   "execution_count": 8,
   "id": "4976d792",
   "metadata": {},
   "outputs": [
    {
     "data": {
      "text/plain": [
       "'4.5.5'"
      ]
     },
     "execution_count": 8,
     "metadata": {},
     "output_type": "execute_result"
    }
   ],
   "source": [
    "cv.__version__"
   ]
  },
  {
   "cell_type": "code",
   "execution_count": 5,
   "id": "1c4ddc41",
   "metadata": {},
   "outputs": [
    {
     "data": {
      "text/plain": [
       "array([[[0],\n",
       "        [0],\n",
       "        [0],\n",
       "        ...,\n",
       "        [0],\n",
       "        [0],\n",
       "        [0]],\n",
       "\n",
       "       [[0],\n",
       "        [0],\n",
       "        [0],\n",
       "        ...,\n",
       "        [0],\n",
       "        [0],\n",
       "        [0]],\n",
       "\n",
       "       [[0],\n",
       "        [0],\n",
       "        [0],\n",
       "        ...,\n",
       "        [0],\n",
       "        [0],\n",
       "        [0]],\n",
       "\n",
       "       ...,\n",
       "\n",
       "       [[0],\n",
       "        [0],\n",
       "        [0],\n",
       "        ...,\n",
       "        [0],\n",
       "        [0],\n",
       "        [0]],\n",
       "\n",
       "       [[0],\n",
       "        [0],\n",
       "        [0],\n",
       "        ...,\n",
       "        [0],\n",
       "        [0],\n",
       "        [0]],\n",
       "\n",
       "       [[0],\n",
       "        [0],\n",
       "        [0],\n",
       "        ...,\n",
       "        [0],\n",
       "        [0],\n",
       "        [0]]], dtype=uint8)"
      ]
     },
     "execution_count": 5,
     "metadata": {},
     "output_type": "execute_result"
    }
   ],
   "source": [
    "tag = np.zeros((300, 300, 1), dtype=\"uint8\")\n",
    "cv.aruco.drawMarker(arucoDict, 0, 300, tag, 1, )"
   ]
  },
  {
   "cell_type": "code",
   "execution_count": 6,
   "id": "d7f20726",
   "metadata": {},
   "outputs": [
    {
     "data": {
      "text/plain": [
       "<matplotlib.image.AxesImage at 0x7f7f86054e20>"
      ]
     },
     "execution_count": 6,
     "metadata": {},
     "output_type": "execute_result"
    },
    {
     "data": {
      "image/png": "[encoded data removed]",
      "text/plain": [
       "<Figure size 640x480 with 1 Axes>"
      ]
     },
     "metadata": {},
     "output_type": "display_data"
    }
   ],
   "source": [
    "plt.imshow(tag)"
   ]
  },
  {
   "cell_type": "code",
   "execution_count": null,
   "id": "e31142d2",
   "metadata": {},
   "outputs": [],
   "source": [
    "\n",
    "\n",
    "# allocate memory for the output ArUCo tag and then draw the ArUCo\n",
    "# tag on the output image\n",
    "print(\"[INFO] generating ArUCo tag type '{}' with ID '{}'\".format(\n",
    "\targs[\"type\"], args[\"id\"]))\n",
    "tag = np.zeros((300, 300, 1), dtype=\"uint8\")\n",
    "cv2.aruco.drawMarker(arucoDict, args[\"id\"], 300, tag, 1)\n",
    "\n",
    "# write the generated ArUCo tag to disk and then display it to our\n",
    "# screen\n",
    "cv2.imwrite(args[\"output\"], tag)\n",
    "cv2.imshow(\"ArUCo Tag\", tag)\n",
    "cv2.waitKey(0)"
   ]
  }
 ],
 "metadata": {
  "kernelspec": {
   "display_name": "Python 3 (ipykernel)",
   "language": "python",
   "name": "python3"
  },
  "language_info": {
   "codemirror_mode": {
    "name": "ipython",
    "version": 3
   },
   "file_extension": ".py",
   "mimetype": "text/x-python",
   "name": "python",
   "nbconvert_exporter": "python",
   "pygments_lexer": "ipython3",
   "version": "3.9.13"
  }
 },
 "nbformat": 4,
 "nbformat_minor": 5
}
