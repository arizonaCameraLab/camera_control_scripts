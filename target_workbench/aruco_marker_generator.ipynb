{
 "cells": [
  {
   "cell_type": "code",
   "execution_count": null,
   "id": "9150d956",
   "metadata": {},
   "outputs": [],
   "source": [
    "import numpy as np\n",
    "import cv2 as cv\n",
    "import matplotlib.pyplot as plt\n",
    "\n",
    "import argparse\n",
    "import shlex\n",
    "import sys\n",
    "\n",
    "from target_toolbox.aruco_marker import ARUCO_INNER_BIT, ARUCO_AMOUNT, ARUCO_EDGE_BIT, ARUCO_DICT_TYPE_STR, ARUCO_DICT_TYPE\n",
    "from target_toolbox.aruco_marker import draw_aruco_marker, draw_aruco_desc_tile"
   ]
  },
  {
   "cell_type": "code",
   "execution_count": null,
   "metadata": {},
   "outputs": [],
   "source": [
    "def get_parser():\n",
    "    ### compose parser\n",
    "    parser = argparse.ArgumentParser(formatter_class=argparse.ArgumentDefaultsHelpFormatter)\n",
    "    parser.add_argument('-i', '--index', type=int, choices=range(0,ARUCO_AMOUNT), \n",
    "                        metavar='[0, {})'.format(ARUCO_AMOUNT), \n",
    "                        help='ArUco marker index.')\n",
    "    parser.add_argument('-l', '--length', type=int, \n",
    "                        help='ArUco marker side length in mm (including edge).')\n",
    "    parser.add_argument('--dpi', type=int, default=600,\n",
    "                        help='ArUco marker dpi.')\n",
    "    parser.add_argument('-v', '--verbose', type=int, default=1, \n",
    "                        help='Verbosity of logging: 0-critical, 1-error, 2-warning, 3-info, 4-debug')\n",
    "    return parser\n",
    "\n",
    "# def set_verbose(args):\n",
    "#     ### set logging\n",
    "#     vTable = {0: logging.CRITICAL, 1: logging.ERROR, 2: logging.WARNING, 3: logging.INFO, 4: logging.DEBUG}\n",
    "#     logging.basicConfig(format='%(levelname)s: %(message)s', level=vTable[args.verbose], stream=sys.stdout)\n",
    "#     return"
   ]
  },
  {
   "cell_type": "code",
   "execution_count": null,
   "metadata": {},
   "outputs": [],
   "source": [
    "arg_str = '-i 20 -l 140'\n",
    "parser = get_parser()\n",
    "args, _ = parser.parse_known_args(shlex.split(arg_str))\n",
    "\n",
    "# make gap tile\n",
    "aruco_marker = draw_aruco_marker(ARUCO_DICT_TYPE, args.index, args.length, args.dpi)\n",
    "side_pixels = aruco_marker.shape[1]\n",
    "gap_canvas = np.full((np.round(side_pixels/(ARUCO_INNER_BIT+2*ARUCO_EDGE_BIT)).astype(int), side_pixels, 3), \n",
    "                     255, np.uint8)\n",
    "text_canvas = draw_aruco_desc_tile(ARUCO_DICT_TYPE_STR, args.index, args.length, args.dpi)\n",
    "\n",
    "# concatenate final pattern\n",
    "full_pattern = np.concatenate([aruco_marker, gap_canvas, text_canvas], axis=0)"
   ]
  },
  {
   "cell_type": "code",
   "execution_count": null,
   "metadata": {},
   "outputs": [],
   "source": [
    "plt.imshow(text_canvas)"
   ]
  },
  {
   "cell_type": "code",
   "execution_count": null,
   "metadata": {
    "scrolled": false
   },
   "outputs": [],
   "source": [
    "plt.imshow(full_pattern)"
   ]
  },
  {
   "cell_type": "code",
   "execution_count": null,
   "metadata": {},
   "outputs": [],
   "source": [
    "for efl in (5, 12, 25):\n",
    "    for dist in (5, 10, 20):\n",
    "        print(efl, dist, 42/efl*dist)"
   ]
  },
  {
   "cell_type": "code",
   "execution_count": null,
   "metadata": {},
   "outputs": [],
   "source": []
  }
 ],
 "metadata": {
  "kernelspec": {
   "display_name": "cvlt2",
   "language": "python",
   "name": "cvlt2"
  },
  "language_info": {
   "codemirror_mode": {
    "name": "ipython",
    "version": 3
   },
   "file_extension": ".py",
   "mimetype": "text/x-python",
   "name": "python",
   "nbconvert_exporter": "python",
   "pygments_lexer": "ipython3",
   "version": "3.10.11"
  }
 },
 "nbformat": 4,
 "nbformat_minor": 5
}
