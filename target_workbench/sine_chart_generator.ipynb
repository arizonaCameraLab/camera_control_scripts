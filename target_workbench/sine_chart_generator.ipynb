{
 "cells": [
  {
   "cell_type": "code",
   "execution_count": null,
   "metadata": {},
   "outputs": [],
   "source": [
    "import json\n",
    "\n",
    "import numpy as np\n",
    "import cv2 as cv\n",
    "import matplotlib.pyplot as plt\n",
    "\n",
    "from target_toolbox.aruco_marker import ARUCO_DICT_TYPE\n",
    "from target_toolbox.aruco_sine_chart import generate_aruco_sine_chart_meta, extract_sine_and_bw_tiles, \\\n",
    "                                            estimate_comm_diff_from_bw_tile, estimate_mtf_from_sine_tile, \\\n",
    "                                            find_sine_corner_list, draw_sine_block_outline_and_mtf"
   ]
  },
  {
   "cell_type": "markdown",
   "metadata": {},
   "source": [
    "## MTF estimation theoretical validation"
   ]
  },
  {
   "cell_type": "code",
   "execution_count": null,
   "metadata": {},
   "outputs": [],
   "source": [
    "from target_toolbox.common import mm_to_pixels, pixels_to_mm, dpi_to_pp, pp_to_dpi, remove_bezel\n",
    "from target_toolbox.sine_chart import draw_sine_tile"
   ]
  },
  {
   "cell_type": "code",
   "execution_count": null,
   "metadata": {},
   "outputs": [],
   "source": [
    "def _constrast(arr):\n",
    "    return (arr.max() - arr.min()) / (arr.max() + arr.min())\n",
    "\n",
    "def gaussian_kernel_mtf_func(sigma):\n",
    "    # sigma: gaussian kernel simga in meters\n",
    "    return lambda lpmm: np.exp(-np.power(lpmm*1e3*2*np.pi * sigma, 2)/2)"
   ]
  },
  {
   "cell_type": "code",
   "execution_count": null,
   "metadata": {
    "scrolled": true
   },
   "outputs": [],
   "source": [
    "lpmm = 0.5\n",
    "sine_oversample = 16\n",
    "pp = 1 / (lpmm * 2 * sine_oversample)\n",
    "dpi = dpi_to_pp(pp)\n",
    "\n",
    "length = 100 # in mm\n",
    "height = 20\n",
    "\n",
    "# prepare tiles with different blury\n",
    "sine_tile = draw_sine_tile(lpmm, length, height, dpi)\n",
    "sine_tile = cv.cvtColor(sine_tile, cv.COLOR_BGR2GRAY)\n",
    "k_list = (2, 4, 6, 8, 10, 12)\n",
    "blur_tile_list = []\n",
    "for k in k_list:\n",
    "    blur_tile_list.append(cv.GaussianBlur(sine_tile, (k*6+1,k*6+1), k, k))\n",
    "tile_list = [sine_tile] + blur_tile_list\n",
    "\n",
    "# calculate theoretical MTF using Gaussian kernel\n",
    "theo_mtf_list = []\n",
    "for k in k_list:\n",
    "    k_mm = k * pp\n",
    "    theo_mtf_list.append(gaussian_kernel_mtf_func(k_mm*1e-3)(lpmm))\n",
    "theo_mtf_list = [1.0] + theo_mtf_list\n",
    "\n",
    "# calculate contrast based MTF\n",
    "cont_mtf_list = []\n",
    "for tile in tile_list:\n",
    "    cont_mtf_list.append(_constrast(remove_bezel(tile, 0.2).astype(float)/255.0))\n",
    "\n",
    "# calculate spectrum based MTF\n",
    "spec_mtf_list = []\n",
    "for tile in tile_list:\n",
    "    spec_mtf_list.append(estimate_mtf_from_sine_tile(tile.astype(float)/255.0, lpmm, pp, bezel_ratio=0.2))\n",
    "\n",
    "# demo\n",
    "for a in range(len(tile_list)):\n",
    "    plt.figure(figsize=(16, 4))\n",
    "    plt.imshow(remove_bezel(tile_list[a], 0.2), vmin=0, vmax=255)\n",
    "    plt.title('Theoretical: {:.3f}. Contrast: {:.3f}. Spectrum: {:.3f}'.format( \\\n",
    "              theo_mtf_list[a], cont_mtf_list[a], spec_mtf_list[a]))\n",
    "    plt.show()"
   ]
  },
  {
   "cell_type": "markdown",
   "metadata": {},
   "source": [
    "## Generate test board"
   ]
  },
  {
   "cell_type": "code",
   "execution_count": null,
   "metadata": {},
   "outputs": [],
   "source": [
    "# aruco parameters\n",
    "aruco_idx = 12\n",
    "aruco_length = 100\n",
    "\n",
    "# sine/bw paramters\n",
    "lpmm_list = [1/8, 1/6, 1/4, 1/3, 1/2]\n",
    "length = 100\n",
    "height = 20\n",
    "side_width = 20\n",
    "dpi = 600"
   ]
  },
  {
   "cell_type": "code",
   "execution_count": null,
   "metadata": {},
   "outputs": [],
   "source": [
    "# generate chart\n",
    "total_pattern, meta_dict = generate_aruco_sine_chart_meta(aruco_idx, aruco_length, \n",
    "                                                          lpmm_list, length, height,\n",
    "                                                          side_width, dpi)\n",
    "\n",
    "plt.figure(figsize=(16, 12))\n",
    "plt.imshow(total_pattern)\n",
    "plt.show()\n",
    "\n",
    "print(meta_dict)"
   ]
  },
  {
   "cell_type": "code",
   "execution_count": null,
   "metadata": {},
   "outputs": [],
   "source": [
    "# save image and meta data\n",
    "fn = 'aruco_sine_chart_{:d}'.format(meta_dict['aruco_idx'])\n",
    "cv.imwrite(fn+'.png', cv.cvtColor(total_pattern, cv.COLOR_BGR2GRAY))\n",
    "with open(fn+'.json', 'w') as fp:\n",
    "    json.dump(meta_dict, fp, indent=4)"
   ]
  },
  {
   "cell_type": "markdown",
   "metadata": {},
   "source": [
    "## Psudo-detection test"
   ]
  },
  {
   "cell_type": "code",
   "execution_count": null,
   "metadata": {},
   "outputs": [],
   "source": [
    "# aruco detector parameters\n",
    "aruco_parameter = cv.aruco.DetectorParameters()\n",
    "aruco_dict = cv.aruco.getPredefinedDictionary(ARUCO_DICT_TYPE)\n",
    "aruco_detector = cv.aruco.ArucoDetector(aruco_dict, aruco_parameter)"
   ]
  },
  {
   "cell_type": "code",
   "execution_count": null,
   "metadata": {},
   "outputs": [],
   "source": [
    "# project to frame\n",
    "test_board = 255 - total_pattern\n",
    "frame_w, frame_h = 3840, 2160\n",
    "\n",
    "rng = np.random.default_rng()\n",
    "s = frame_w / test_board.shape[1] * (rng.random()*0.2+0.1)\n",
    "r = rng.random()*np.pi*2\n",
    "x, y = (0.3 + rng.random(2) * 0.4) * np.array([frame_w, frame_h])\n",
    "k = rng.random() * 4 + 1\n",
    "\n",
    "H_pre = np.array([[s*np.cos(r), -s*np.sin(r), x],\n",
    "                  [s*np.sin(r),  s*np.cos(r), y]], dtype=np.float32)\n",
    "warped_board = cv.warpAffine(test_board, H_pre, (frame_w, frame_h), flags=cv.INTER_AREA)\n",
    "warped_board = cv.GaussianBlur(warped_board, (0,0), k)\n",
    "\n",
    "frame = 255 - warped_board\n",
    "\n",
    "plt.figure(figsize=(16, 9))\n",
    "plt.imshow(frame)\n",
    "plt.show()"
   ]
  },
  {
   "cell_type": "code",
   "execution_count": null,
   "metadata": {},
   "outputs": [],
   "source": [
    "# detect aruco\n",
    "cornerList, idList, rejectedImgPoints = aruco_detector.detectMarkers(frame)\n",
    "aruco_corner_list = np.array(cornerList[0], dtype=np.float32).reshape(4,2)\n",
    "\n",
    "# extract tiles\n",
    "tile_list, pp_list, lpmm_list = extract_sine_and_bw_tiles(cv.cvtColor(frame, cv.COLOR_BGR2GRAY), \n",
    "                                                          aruco_corner_list, meta_dict)\n",
    "\n",
    "# calculate black/white contrast\n",
    "bw_tile = tile_list[-1].astype(float)/255.0\n",
    "comm_mode, diff_mode = estimate_comm_diff_from_bw_tile(bw_tile)\n",
    "\n",
    "# calculate spectrum and MTF\n",
    "mtf_list = []\n",
    "for tile, lpmm, pp in zip(tile_list[:-1], lpmm_list, pp_list):\n",
    "    mtf = estimate_mtf_from_sine_tile(tile.astype(float)/255.0, lpmm, pp, comm_mode, diff_mode, bezel_ratio=0.15)\n",
    "    mtf_list.append(mtf)"
   ]
  },
  {
   "cell_type": "code",
   "execution_count": null,
   "metadata": {},
   "outputs": [],
   "source": [
    "# find and draw sine block outline\n",
    "sine_corner_list = find_sine_corner_list(aruco_corner_list, meta_dict)\n",
    "frame_disp = np.copy(frame)\n",
    "frame_disp = draw_sine_block_outline_and_mtf(frame_disp, sine_corner_list, lpmm_list, mtf_list)\n",
    "\n",
    "plt.figure(figsize=(16, 9))\n",
    "plt.imshow(frame_disp)\n",
    "plt.show()"
   ]
  },
  {
   "cell_type": "code",
   "execution_count": null,
   "metadata": {},
   "outputs": [],
   "source": []
  }
 ],
 "metadata": {
  "kernelspec": {
   "display_name": "cvlt2",
   "language": "python",
   "name": "cvlt2"
  },
  "language_info": {
   "codemirror_mode": {
    "name": "ipython",
    "version": 3
   },
   "file_extension": ".py",
   "mimetype": "text/x-python",
   "name": "python",
   "nbconvert_exporter": "python",
   "pygments_lexer": "ipython3",
   "version": "3.10.11"
  }
 },
 "nbformat": 4,
 "nbformat_minor": 4
}
