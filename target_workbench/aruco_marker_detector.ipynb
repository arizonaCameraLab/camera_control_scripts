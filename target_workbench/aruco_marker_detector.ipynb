{
 "cells": [
  {
   "cell_type": "code",
   "execution_count": null,
   "metadata": {},
   "outputs": [],
   "source": [
    "import numpy as np\n",
    "import cv2 as cv\n",
    "import matplotlib.pyplot as plt\n",
    "\n",
    "import argparse\n",
    "import shlex\n",
    "import sys\n",
    "\n",
    "from target_toolbox.aruco_marker import ARUCO_DICT_SET\n",
    "from target_toolbox.aruco_marker import draw_aruco_coordinate"
   ]
  },
  {
   "cell_type": "code",
   "execution_count": null,
   "metadata": {},
   "outputs": [],
   "source": [
    "# import target image\n",
    "img = cv.imread('./singlemarkersoriginal.jpg')"
   ]
  },
  {
   "cell_type": "code",
   "execution_count": null,
   "metadata": {},
   "outputs": [],
   "source": [
    "# prepare detector\n",
    "aruco_parameter = cv.aruco.DetectorParameters()\n",
    "aruco_dict = cv.aruco.getPredefinedDictionary(ARUCO_DICT_SET['DICT_6X6_250'])\n",
    "aruco_detector = cv.aruco.ArucoDetector(aruco_dict, aruco_parameter)\n",
    "\n",
    "# detect\n",
    "corner_list, id_list, rejectedImgPoints = aruco_detector.detectMarkers(img)\n",
    "\n",
    "# draw\n",
    "img2 = np.copy(img)\n",
    "cv.aruco.drawDetectedMarkers(img2, corner_list, id_list, (0,255,0))\n",
    "\n",
    "# plot center coordinate\n",
    "img3 = draw_aruco_coordinate(img2, corner_list)\n",
    "\n",
    "plt.imshow(cv.cvtColor(img3, cv.COLOR_BGR2RGB))"
   ]
  },
  {
   "cell_type": "code",
   "execution_count": null,
   "metadata": {},
   "outputs": [],
   "source": [
    "# dummy camera parameters\n",
    "cam_mat = np.array([[1,0,0],\n",
    "                    [0,1,0], \n",
    "                    [0,0,1]], dtype=np.float32)\n",
    "cam_dist = np.array([0,0,0,0], dtype=np.float32)\n",
    "\n",
    "# dummy aruco object points\n",
    "obj_points = np.array([[0, 0, 0],\n",
    "                       [1, 0, 0], \n",
    "                       [1, 1, 0],\n",
    "                       [0, 1, 0]], dtype=np.float32)\n",
    "obj_points = obj_points[None, ...]\n",
    "\n",
    "# draw aruco markers coordinates\n",
    "rvec_list = []\n",
    "tvec_list = []\n",
    "for corner in corners:\n",
    "    retval, rvec, tvec = cv.solvePnP(obj_points, corner, cam_mat, cam_dist)\n",
    "    rvec_list.append(rvec)\n",
    "    tvec_list.append(tvec)"
   ]
  },
  {
   "cell_type": "code",
   "execution_count": null,
   "metadata": {
    "scrolled": true
   },
   "outputs": [],
   "source": [
    "img3 = np.copy(img)\n",
    "for rvec, tvec in zip(rvec_list, tvec_list):\n",
    "    cv.drawFrameAxes(img3, cam_mat, cam_dist, rvec, tvec, 1)"
   ]
  },
  {
   "cell_type": "code",
   "execution_count": null,
   "metadata": {},
   "outputs": [],
   "source": [
    "plt.imshow(cv.cvtColor(img3, cv.COLOR_BGR2RGB))"
   ]
  }
 ],
 "metadata": {
  "kernelspec": {
   "display_name": "cvlt2",
   "language": "python",
   "name": "cvlt2"
  },
  "language_info": {
   "codemirror_mode": {
    "name": "ipython",
    "version": 3
   },
   "file_extension": ".py",
   "mimetype": "text/x-python",
   "name": "python",
   "nbconvert_exporter": "python",
   "pygments_lexer": "ipython3",
   "version": "3.10.11"
  }
 },
 "nbformat": 4,
 "nbformat_minor": 4
}
